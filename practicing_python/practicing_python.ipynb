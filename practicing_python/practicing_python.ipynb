{
 "cells": [
  {
   "cell_type": "code",
   "execution_count": 1,
   "metadata": {},
   "outputs": [
    {
     "name": "stdout",
     "output_type": "stream",
     "text": [
      "25\n",
      "2.716\n",
      "Armando Pinales\n"
     ]
    }
   ],
   "source": [
    "#------------------------------------------------------------------------------\n",
    "# ECEN 5773 Developing the Industrial Internet of Things\n",
    "# University of Colorado, Boulder\n",
    "# College of Engineering and Applied Science.\n",
    "# Instructor: Dave Sluiter\n",
    "# \n",
    "# Praticing Python assignment.\n",
    "#\n",
    "# Using the python_training notebook as a guide, complete the following cells\n",
    "# in this notebook. \n",
    "#\n",
    "# Run all of the cells and save the notebook.\n",
    "#\n",
    "# To turn in to Canvas: The saved practicing_python.ipynb file.\n",
    "#------------------------------------------------------------------------------\n",
    "\n",
    "#------------------------------------------\n",
    "# 1 Basic Data Types\n",
    "#------------------------------------------\n",
    "\n",
    "# assign the integer value of 25 to a variable and print the variable.\n",
    "my_int = 25\n",
    "print(my_int)\n",
    "\n",
    "# assign the floating point value of 2.716 to a variable and print the variable.\n",
    "my_float = 2.716\n",
    "print(my_float)\n",
    "\n",
    "# assign a string consisting of your first and last names to a variable and print the variable.\n",
    "my_name = \"Armando Pinales\"\n",
    "print(my_name)\n",
    "\n"
   ]
  },
  {
   "cell_type": "code",
   "execution_count": 9,
   "metadata": {},
   "outputs": [
    {
     "name": "stdout",
     "output_type": "stream",
     "text": [
      "Alice\n",
      "Bob\n",
      "Eve\n",
      "Book: A Series of Unfortunate Events\tRating: 1\n"
     ]
    }
   ],
   "source": [
    "#-----------------------------------------------------\n",
    "# 2 Lists (arrays) and dictionaries (associative arrays)\n",
    "#-----------------------------------------------------\n",
    "\n",
    "# create a list with the names of 3 friends and print each element in the list\n",
    "my_friends = [\"Alice\", \"Bob\", \"Eve\"]\n",
    "\n",
    "for friend in my_friends:\n",
    "    print(friend)\n",
    "\n",
    "# create a dictionary that contains keys that are the names of your 3 favorite books,\n",
    "# with the values being 1 for your 1st favorite, 2 for your second favorite, and 3\n",
    "# for your 3rd favorite. print the key and the value of your 1st favorite book.\n",
    "\n",
    "my_dict = {\n",
    "    \"harry potter\": 3,\n",
    "    \"dune\": 2,\n",
    "    \"A Series of Unfortunate Events\": 1,\n",
    "}\n",
    "\n",
    "for k, v in my_dict.items():\n",
    "    if v == 1:\n",
    "        print(f\"Book: {k}\\tRating: {v}\")\n",
    "\n"
   ]
  },
  {
   "cell_type": "code",
   "execution_count": 11,
   "metadata": {},
   "outputs": [
    {
     "name": "stdout",
     "output_type": "stream",
     "text": [
      "10\n",
      "20\n",
      "30\n",
      "40\n",
      "50\n",
      "60\n",
      "70\n",
      "80\n",
      "90\n",
      "100\n"
     ]
    }
   ],
   "source": [
    "#------------------------------------------\n",
    "# 3 If/else and for loops, iterators and while loops\n",
    "#------------------------------------------\n",
    "\n",
    "# create a for loop that prints the values 10 to 100, stepping by 10 each time\n",
    "# through the loop.\n",
    "for num in range(10, 110, 10):\n",
    "    print(num)\n",
    "\n",
    "\n"
   ]
  },
  {
   "cell_type": "code",
   "execution_count": 15,
   "metadata": {},
   "outputs": [
    {
     "name": "stdout",
     "output_type": "stream",
     "text": [
      "14\n"
     ]
    }
   ],
   "source": [
    "#------------------------------------------\n",
    "# 4 Functions\n",
    "#------------------------------------------\n",
    "\n",
    "# create a function that accepts 2 inputs, multiplies them together, and\n",
    "# then adds 5, and returns that value to the caller. Call that function\n",
    "# with 2 parameters and print the result.\n",
    "\n",
    "def my_func(val1: int, val2: int):\n",
    "    return ((val1 * val2) + 5)\n",
    "\n",
    "print(my_func(3,3))"
   ]
  },
  {
   "cell_type": "code",
   "execution_count": 19,
   "metadata": {},
   "outputs": [
    {
     "name": "stdout",
     "output_type": "stream",
     "text": [
      "Matrix:\n",
      "[[ 70  80  90]\n",
      " [158 184 210]\n",
      " [246 288 330]]\n",
      "Shape: (3, 3)\n"
     ]
    }
   ],
   "source": [
    "#------------------------------------------\n",
    "# 5 Numpy library\n",
    "# numpy implements matrix construction and operations\n",
    "#\n",
    "# See: https://numpy.org/doc/1.21/\n",
    "#      https://numpy.org/doc/1.21/user/absolute_beginners.html\n",
    "#\n",
    "# Both sci-kit learn and tensor flow models can read np arrays.\n",
    "#\n",
    "# The np library contains many methods for performing matrix\n",
    "# operations so you don't have to spend time coding all those\n",
    "# lower-level details, examples include matrix transpose, \n",
    "# and matrix multiplication etc - yay!\n",
    "#------------------------------------------\n",
    "\n",
    "import numpy as np  # linear algebra\n",
    "\n",
    "\n",
    "# create a [3x4] np matrix and a [4x3] np matrix, multiply them together (dot)\n",
    "# yielding a [3x3]. print the resulting [3x3] matrix values.\n",
    "matrix_3x4 = np.array( [ [1, 2 ,3 , 4], [5, 6, 7, 8], [9, 10, 11, 12] ] )\n",
    "matrix_4x3 = np.array( [ [1, 2, 3], [4, 5, 6], [7, 8, 9], [10, 11, 12] ] )\n",
    "\n",
    "matrix_3x3 = np.dot(matrix_3x4, matrix_4x3)\n",
    "print(f\"Matrix:\\n{matrix_3x3}\\nShape: {matrix_3x3.shape}\")\n"
   ]
  },
  {
   "cell_type": "code",
   "execution_count": 23,
   "metadata": {},
   "outputs": [
    {
     "name": "stdout",
     "output_type": "stream",
     "text": [
      "          A        B      C          D\n",
      "0        Hi        I     am          a\n",
      "1  sentance     with      a     length\n",
      "2        of  sixteen  words        for\n",
      "3       the   pandas   data  structure\n"
     ]
    }
   ],
   "source": [
    "#------------------------------------------\n",
    "# 6 Pandas library\n",
    "# Pandas implements a more sophisticated numpy library.\n",
    "# The library functions much like Excel spreadsheets. Think \"np arrays\" but with\n",
    "# column header values and row header values, typically text fields that describe\n",
    "# the column or the row. Row headers are referred to as \"index\" values and column headers\n",
    "# are referred to as \"column\" values. If you execute len(series_name), you'll get the\n",
    "# number of rows in the Series. I think of this as the \"depth\" of the Series.\n",
    "#\n",
    "# See docs at: https://pandas.pydata.org/pandas-docs/stable/reference/frame.html\n",
    "# \n",
    "# Key concepts:\n",
    "#\n",
    "# First we have a data structure known as a Series. You can think of a Series as a\n",
    "# column vector of data. They operate much like a dictionary and indexed by the row index \"keys\".\n",
    "# The one difference with a series vs. a dictionary is that a Series has to contain element \n",
    "# values that are all of the same data type - be aware.\n",
    "#\n",
    "# Second, multiple Series can be arranged into a 2-d matrix of Series called a\n",
    "# DataFrame. A 2-d data frame is a classic Excel Spreadhseet. The default row and\n",
    "# column header values are numbers that range from 0 to m-1, n-1, where m-1 is the number\n",
    "# rows and n-1 is the number of columns. Here's the tricky bit that I found, each\n",
    "# Series (dictionary) in a data frame has to have the same key values, i.e. the same row index\n",
    "# values. The index and column variables are not static, but can be updated programatically.\n",
    "# Once the index and column header values have been assigned (or not, i.e. using the\n",
    "# default values), sorting or otherwise rearranging the rows and columns in a data frame\n",
    "# does not result in changing the header values. So imagine a data frame:\n",
    "#\n",
    "#     A   B   C\n",
    "# 0   5   6   7\n",
    "# 1   10  60  30\n",
    "# 2   50  20  70\n",
    "#\n",
    "# And you rearrange (sort) the data frame on column B values, say from largest to smallest,\n",
    "# you'd get:\n",
    "#\n",
    "#     A   B   C\n",
    "# 1   10  60  30\n",
    "# 2   50  20  70\n",
    "# 0   5   6   7\n",
    "#\n",
    "# See that those row index values (0, 1, 2) \"follow along\" with the data.\n",
    "#\n",
    "# Tensor flow models can read pandas arrays. I haven't tried sci-kit learn models.\n",
    "#\n",
    "#------------------------------------------\n",
    "\n",
    "# See: https://pythonhow.com/accessing-dataframe-columns-rows-and-cells/\n",
    "\n",
    "import pandas as pd\n",
    "\n",
    "# create a data frame with 4 rows with index values 0 to 3, and 4 columns\n",
    "# with column header values of A, B, C and D. print all the values of the data frame\n",
    "# including the row index values and the column header values.\n",
    "\n",
    "# Create data for array\n",
    "text = \"Hi I am a sentance with a length of sixteen words for the pandas data structure\"\n",
    "text_list = text.split(' ')\n",
    "text_4x4 = np.reshape(text_list, (4, 4))\n",
    "\n",
    "# generate labels\n",
    "index_labels = [0, 1, 2, 3]\n",
    "column_labels = ['A', 'B', 'C', 'D']\n",
    "\n",
    "# create the data frame\n",
    "my_dataframe = pd.DataFrame(text_4x4, index_labels, column_labels)\n",
    "print(my_dataframe)\n",
    "\n",
    "\n"
   ]
  },
  {
   "cell_type": "code",
   "execution_count": null,
   "metadata": {},
   "outputs": [],
   "source": []
  }
 ],
 "metadata": {
  "interpreter": {
   "hash": "f686fdc118ffc4aa3cfc49dea14bffa512884a21c608738156b0199a3b72a68c"
  },
  "kernelspec": {
   "display_name": "Python 3.8.5 64-bit (conda)",
   "name": "python3"
  },
  "language_info": {
   "codemirror_mode": {
    "name": "ipython",
    "version": 3
   },
   "file_extension": ".py",
   "mimetype": "text/x-python",
   "name": "python",
   "nbconvert_exporter": "python",
   "pygments_lexer": "ipython3",
   "version": "3.8.5"
  }
 },
 "nbformat": 4,
 "nbformat_minor": 5
}
